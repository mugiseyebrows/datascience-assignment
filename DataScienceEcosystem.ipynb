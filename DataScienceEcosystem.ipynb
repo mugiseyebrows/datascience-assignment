{
 "cells": [
  {
   "cell_type": "markdown",
   "id": "a511db65-0c81-4fa3-a3d4-5daa35b32b02",
   "metadata": {},
   "source": [
    "# Data Science Tools and Ecosystem"
   ]
  },
  {
   "cell_type": "markdown",
   "id": "ebde6e48-22eb-45ac-9fbd-3ff9dc3a288b",
   "metadata": {},
   "source": [
    "In this notebook, Data Science Tools and Ecosystem are summarized."
   ]
  },
  {
   "cell_type": "markdown",
   "id": "b8d9252e-6ea7-4674-a1fe-81c2990c4adf",
   "metadata": {},
   "source": [
    "**Objectives:**\n",
    "- List popular languages for Data Science\n",
    "- List popular libraries for Data Science\n",
    "- Evaluate python expressions\n",
    "- Render markdown tables and lists"
   ]
  },
  {
   "cell_type": "markdown",
   "id": "5ec1ad0e-30ce-452d-a300-8c3679686796",
   "metadata": {},
   "source": [
    "Some of the popular languages that Data Scientists use are:\n",
    "1) Python\n",
    "2) Julia\n",
    "3) R\n",
    "4) C++"
   ]
  },
  {
   "cell_type": "markdown",
   "id": "d24f5306-54e9-482d-8aa4-7d53f465916f",
   "metadata": {},
   "source": [
    "Some of the commonly used libraries used by Data Scientists include:\n",
    "1) pandas\n",
    "2) numpy\n",
    "3) pytorch\n",
    "4) scikit\n",
    "5) matplotlib\n",
    "6) seaborn"
   ]
  },
  {
   "cell_type": "markdown",
   "id": "7e2a1e69-b194-497e-88c7-5e6cefed6b37",
   "metadata": {},
   "source": [
    "|Data Science Tools|\n",
    "|------------------|\n",
    "| Jupyter          |\n",
    "| RStudio          |\n",
    "| VSCode           |\n"
   ]
  },
  {
   "cell_type": "markdown",
   "id": "eaa2b5bd-0e3d-4639-9ba8-05a5fc94461f",
   "metadata": {
    "tags": []
   },
   "source": [
    "### Below are a few examples of evaluating arithmetic expressions in Python"
   ]
  },
  {
   "cell_type": "code",
   "execution_count": 2,
   "id": "81d5c380-5e49-44fe-a2fd-34cd334126ca",
   "metadata": {
    "tags": []
   },
   "outputs": [
    {
     "data": {
      "text/plain": [
       "17"
      ]
     },
     "execution_count": 2,
     "metadata": {},
     "output_type": "execute_result"
    }
   ],
   "source": [
    "(3*4)+5"
   ]
  },
  {
   "cell_type": "code",
   "execution_count": 3,
   "id": "7966fb1a-0403-4f81-a821-03641144ceb2",
   "metadata": {
    "tags": []
   },
   "outputs": [
    {
     "data": {
      "text/plain": [
       "3.3333333333333335"
      ]
     },
     "execution_count": 3,
     "metadata": {},
     "output_type": "execute_result"
    }
   ],
   "source": [
    "# This will convert 200 minutes to hours by diving by 60\n",
    "200 / 60"
   ]
  },
  {
   "cell_type": "markdown",
   "id": "d8bcc443-ec79-4cf1-9402-165ac2c75aa0",
   "metadata": {
    "tags": []
   },
   "source": [
    "## Author\n",
    "Stanislav Doronin"
   ]
  }
 ],
 "metadata": {
  "kernelspec": {
   "display_name": "Python",
   "language": "python",
   "name": "conda-env-python-py"
  },
  "language_info": {
   "codemirror_mode": {
    "name": "ipython",
    "version": 3
   },
   "file_extension": ".py",
   "mimetype": "text/x-python",
   "name": "python",
   "nbconvert_exporter": "python",
   "pygments_lexer": "ipython3",
   "version": "3.7.12"
  }
 },
 "nbformat": 4,
 "nbformat_minor": 5
}
